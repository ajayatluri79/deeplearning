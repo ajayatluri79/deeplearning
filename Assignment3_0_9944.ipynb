{
  "nbformat": 4,
  "nbformat_minor": 0,
  "metadata": {
    "colab": {
      "name": "Assignment3_0.994.ipynb",
      "version": "0.3.2",
      "provenance": [],
      "collapsed_sections": [],
      "include_colab_link": true
    },
    "kernelspec": {
      "name": "python3",
      "display_name": "Python 3"
    },
    "accelerator": "GPU"
  },
  "cells": [
    {
      "cell_type": "markdown",
      "metadata": {
        "id": "view-in-github",
        "colab_type": "text"
      },
      "source": [
        "<a href=\"https://colab.research.google.com/github/ajayatluri79/deeplearning/blob/master/Assignment3_0_9944.ipynb\" target=\"_parent\"><img src=\"https://colab.research.google.com/assets/colab-badge.svg\" alt=\"Open In Colab\"/></a>"
      ]
    },
    {
      "cell_type": "markdown",
      "metadata": {
        "id": "aNyZv-Ec52ot",
        "colab_type": "text"
      },
      "source": [
        "# **Import Libraries and modules**"
      ]
    },
    {
      "cell_type": "code",
      "metadata": {
        "id": "3m3w1Cw49Zkt",
        "colab_type": "code",
        "colab": {
          "base_uri": "https://localhost:8080/",
          "height": 34
        },
        "outputId": "b214fb57-7e42-48b7-933f-24773ade36ac"
      },
      "source": [
        "# https://keras.io/\n",
        "!pip install -q keras\n",
        "import keras"
      ],
      "execution_count": 2,
      "outputs": [
        {
          "output_type": "stream",
          "text": [
            "Using TensorFlow backend.\n"
          ],
          "name": "stderr"
        }
      ]
    },
    {
      "cell_type": "code",
      "metadata": {
        "id": "Eso6UHE080D4",
        "colab_type": "code",
        "colab": {}
      },
      "source": [
        "import numpy as np\n",
        "\n",
        "from keras.models import Sequential\n",
        "from keras.layers import Dense, Dropout, Activation, Flatten, Add\n",
        "from keras.layers import Convolution2D, MaxPooling2D\n",
        "from keras.utils import np_utils\n",
        "\n",
        "from keras.datasets import mnist"
      ],
      "execution_count": 0,
      "outputs": []
    },
    {
      "cell_type": "markdown",
      "metadata": {
        "id": "o285U9a4s_-x",
        "colab_type": "text"
      },
      "source": [
        "***Training and Test Data ***\n",
        "\n",
        "Divide the mnsist data into training and test"
      ]
    },
    {
      "cell_type": "markdown",
      "metadata": {
        "id": "zByEi95J86RD",
        "colab_type": "text"
      },
      "source": [
        "***mnist DATA set***\n",
        "\n",
        "Loading the Mnist Data"
      ]
    },
    {
      "cell_type": "code",
      "metadata": {
        "id": "7eRM0QWN83PV",
        "colab_type": "code",
        "colab": {}
      },
      "source": [
        "(X_train, y_train), (X_test, y_test) = mnist.load_data()"
      ],
      "execution_count": 0,
      "outputs": []
    },
    {
      "cell_type": "markdown",
      "metadata": {
        "id": "uUMEwocPcIJr",
        "colab_type": "text"
      },
      "source": [
        "***Multiple Images***\n",
        "\n",
        "Printing the Multiple Images to look athe size of the images manually"
      ]
    },
    {
      "cell_type": "markdown",
      "metadata": {
        "id": "03P3Vl07cmoS",
        "colab_type": "text"
      },
      "source": [
        "***1st Image***\n",
        "\n",
        "Printing the 1st  Image"
      ]
    },
    {
      "cell_type": "code",
      "metadata": {
        "id": "4a4Be72j8-ZC",
        "colab_type": "code",
        "outputId": "e187acf2-8b25-455e-b324-be72a48f3dde",
        "colab": {
          "base_uri": "https://localhost:8080/",
          "height": 302
        }
      },
      "source": [
        "print (X_train.shape)\n",
        "from matplotlib import pyplot as plt\n",
        "%matplotlib inline\n",
        "plt.imshow(X_train[0])"
      ],
      "execution_count": 5,
      "outputs": [
        {
          "output_type": "stream",
          "text": [
            "(60000, 28, 28)\n"
          ],
          "name": "stdout"
        },
        {
          "output_type": "execute_result",
          "data": {
            "text/plain": [
              "<matplotlib.image.AxesImage at 0x7f71bd812898>"
            ]
          },
          "metadata": {
            "tags": []
          },
          "execution_count": 5
        },
        {
          "output_type": "display_data",
          "data": {
            "image/png": "[encoded data removed]",
            "text/plain": [
              "<Figure size 432x288 with 1 Axes>"
            ]
          },
          "metadata": {
            "tags": []
          }
        }
      ]
    },
    {
      "cell_type": "markdown",
      "metadata": {
        "id": "ZDWMUTvwc1f0",
        "colab_type": "text"
      },
      "source": [
        "***5th Image***\n",
        "\n",
        "Printing the 5th Image"
      ]
    },
    {
      "cell_type": "code",
      "metadata": {
        "id": "d3IH2rc8cGFZ",
        "colab_type": "code",
        "outputId": "955d3e5b-6465-4870-92e7-25ea817a8181",
        "colab": {
          "base_uri": "https://localhost:8080/",
          "height": 302
        }
      },
      "source": [
        "print (X_train.shape)\n",
        "from matplotlib import pyplot as plt\n",
        "%matplotlib inline\n",
        "plt.imshow(X_train[5])"
      ],
      "execution_count": 6,
      "outputs": [
        {
          "output_type": "stream",
          "text": [
            "(60000, 28, 28)\n"
          ],
          "name": "stdout"
        },
        {
          "output_type": "execute_result",
          "data": {
            "text/plain": [
              "<matplotlib.image.AxesImage at 0x7f71bafa66d8>"
            ]
          },
          "metadata": {
            "tags": []
          },
          "execution_count": 6
        },
        {
          "output_type": "display_data",
          "data": {
            "image/png": "[encoded data removed]",
            "text/plain": [
              "<Figure size 432x288 with 1 Axes>"
            ]
          },
          "metadata": {
            "tags": []
          }
        }
      ]
    },
    {
      "cell_type": "markdown",
      "metadata": {
        "id": "-wt02d1oc0u4",
        "colab_type": "text"
      },
      "source": [
        "***120th Image***\n",
        "\n",
        "Printing the 120th Image"
      ]
    },
    {
      "cell_type": "code",
      "metadata": {
        "id": "g2pyikQJdMAn",
        "colab_type": "code",
        "outputId": "40aec9c9-5d9d-4425-d229-d58817ae6686",
        "colab": {
          "base_uri": "https://localhost:8080/",
          "height": 302
        }
      },
      "source": [
        "print (X_train.shape)\n",
        "from matplotlib import pyplot as plt\n",
        "%matplotlib inline\n",
        "plt.imshow(X_train[120])"
      ],
      "execution_count": 7,
      "outputs": [
        {
          "output_type": "stream",
          "text": [
            "(60000, 28, 28)\n"
          ],
          "name": "stdout"
        },
        {
          "output_type": "execute_result",
          "data": {
            "text/plain": [
              "<matplotlib.image.AxesImage at 0x7f71baf0a7f0>"
            ]
          },
          "metadata": {
            "tags": []
          },
          "execution_count": 7
        },
        {
          "output_type": "display_data",
          "data": {
            "image/png": "[encoded data removed]",
            "text/plain": [
              "<Figure size 432x288 with 1 Axes>"
            ]
          },
          "metadata": {
            "tags": []
          }
        }
      ]
    },
    {
      "cell_type": "code",
      "metadata": {
        "id": "INajhOfVsm3g",
        "colab_type": "code",
        "outputId": "e096dfd2-79c4-4345-fc58-18373b3a10a0",
        "colab": {
          "base_uri": "https://localhost:8080/",
          "height": 34
        }
      },
      "source": [
        "print(X_train.shape[0])"
      ],
      "execution_count": 8,
      "outputs": [
        {
          "output_type": "stream",
          "text": [
            "60000\n"
          ],
          "name": "stdout"
        }
      ]
    },
    {
      "cell_type": "code",
      "metadata": {
        "id": "M-ppKJvyszZm",
        "colab_type": "code",
        "outputId": "8060bac4-4442-4d82-b96b-ada140d9d13c",
        "colab": {
          "base_uri": "https://localhost:8080/",
          "height": 34
        }
      },
      "source": [
        "print(X_test.shape[0])"
      ],
      "execution_count": 9,
      "outputs": [
        {
          "output_type": "stream",
          "text": [
            "10000\n"
          ],
          "name": "stdout"
        }
      ]
    },
    {
      "cell_type": "markdown",
      "metadata": {
        "id": "gofc5773MAhX",
        "colab_type": "text"
      },
      "source": [
        "Training and Testig  data "
      ]
    },
    {
      "cell_type": "code",
      "metadata": {
        "id": "dkmprriw9AnZ",
        "colab_type": "code",
        "colab": {}
      },
      "source": [
        "X_train = X_train.reshape(X_train.shape[0], 28, 28,1)\n",
        "X_test = X_test.reshape(X_test.shape[0], 28, 28,1)"
      ],
      "execution_count": 0,
      "outputs": []
    },
    {
      "cell_type": "code",
      "metadata": {
        "id": "X2m4YS4E9CRh",
        "colab_type": "code",
        "colab": {}
      },
      "source": [
        "X_train = X_train.astype('float32')\n",
        "X_test = X_test.astype('float32')\n",
        "X_train /= 255\n",
        "X_test /= 255"
      ],
      "execution_count": 0,
      "outputs": []
    },
    {
      "cell_type": "markdown",
      "metadata": {
        "id": "rKKIMu_aMM26",
        "colab_type": "text"
      },
      "source": [
        "LOOKING AT THE FIRST 5 Training values"
      ]
    },
    {
      "cell_type": "code",
      "metadata": {
        "id": "0Mn0vAYD9DvB",
        "colab_type": "code",
        "outputId": "0c5da4e8-7e86-4722-9b59-65a4d46f8442",
        "colab": {
          "base_uri": "https://localhost:8080/",
          "height": 34
        }
      },
      "source": [
        "y_train[:5]"
      ],
      "execution_count": 12,
      "outputs": [
        {
          "output_type": "execute_result",
          "data": {
            "text/plain": [
              "array([5, 0, 4, 1, 9], dtype=uint8)"
            ]
          },
          "metadata": {
            "tags": []
          },
          "execution_count": 12
        }
      ]
    },
    {
      "cell_type": "markdown",
      "metadata": {
        "id": "1gXMFAu_MTuq",
        "colab_type": "text"
      },
      "source": [
        ""
      ]
    },
    {
      "cell_type": "code",
      "metadata": {
        "id": "CXMsbGX-dnbL",
        "colab_type": "code",
        "colab": {}
      },
      "source": [
        "# Convert 1-dimensional class arrays to 10-dimensional class matrices\n",
        "Y_train = np_utils.to_categorical(y_train, 10)\n",
        "Y_test = np_utils.to_categorical(y_test, 10)"
      ],
      "execution_count": 0,
      "outputs": []
    },
    {
      "cell_type": "code",
      "metadata": {
        "id": "fYlFRvKS9HMB",
        "colab_type": "code",
        "outputId": "57ad5abd-06c3-4931-e233-29a5f152285e",
        "colab": {
          "base_uri": "https://localhost:8080/",
          "height": 185
        }
      },
      "source": [
        "Y_train[:10]\n"
      ],
      "execution_count": 14,
      "outputs": [
        {
          "output_type": "execute_result",
          "data": {
            "text/plain": [
              "array([[0., 0., 0., 0., 0., 1., 0., 0., 0., 0.],\n",
              "       [1., 0., 0., 0., 0., 0., 0., 0., 0., 0.],\n",
              "       [0., 0., 0., 0., 1., 0., 0., 0., 0., 0.],\n",
              "       [0., 1., 0., 0., 0., 0., 0., 0., 0., 0.],\n",
              "       [0., 0., 0., 0., 0., 0., 0., 0., 0., 1.],\n",
              "       [0., 0., 1., 0., 0., 0., 0., 0., 0., 0.],\n",
              "       [0., 1., 0., 0., 0., 0., 0., 0., 0., 0.],\n",
              "       [0., 0., 0., 1., 0., 0., 0., 0., 0., 0.],\n",
              "       [0., 1., 0., 0., 0., 0., 0., 0., 0., 0.],\n",
              "       [0., 0., 0., 0., 1., 0., 0., 0., 0., 0.]], dtype=float32)"
            ]
          },
          "metadata": {
            "tags": []
          },
          "execution_count": 14
        }
      ]
    },
    {
      "cell_type": "markdown",
      "metadata": {
        "id": "fo1dusgbd2Qf",
        "colab_type": "text"
      },
      "source": [
        "***Model Structure***\n",
        "\n",
        "`Modifying the Model Structure\n",
        "\n",
        "Intiatally tried with the 16,32,64 but parameters becoming more and also used the drop out at 0.15 but, validation values is less.\n",
        "\n",
        "Tried with 16,32,32 and increased the drop out to 20% at the first layer. \n",
        "\n",
        "Then flatten the network at 16 only with the dropout rate as 0.40\n"
      ]
    },
    {
      "cell_type": "code",
      "metadata": {
        "id": "osKqT73Q9JJB",
        "colab_type": "code",
        "outputId": "24ce3221-7107-443d-860b-03f8bc582a7f",
        "colab": {
          "base_uri": "https://localhost:8080/",
          "height": 238
        }
      },
      "source": [
        "from keras.layers import Activation\n",
        "model = Sequential()\n",
        "\n",
        " \n",
        "model.add(Convolution2D(16, 3, 3, activation='relu', input_shape=(28,28,1)))\n",
        "model.add(Convolution2D(32, 3, 3, activation='relu'))\n",
        "model.add(Convolution2D(16, 1, 1, activation='relu'))\n",
        "\n",
        "model.add(MaxPooling2D(pool_size=(2, 2)))\n",
        "model.add(Dropout(0.15))\n",
        "          \n",
        "\n",
        "model.add(Convolution2D(32,3,3, activation='relu'))\n",
        "model.add(Convolution2D(16, 1, 1, activation='relu'))\n",
        "\n",
        "model.add(MaxPooling2D(pool_size=(2, 2)))\n",
        "model.add(Dropout(0.4))\n",
        "\n",
        "model.add(Convolution2D(32,3,3, activation='relu'))\n",
        "model.add(Convolution2D(10,3,3))\n",
        "model.add(Flatten())\n",
        "model.add(Activation('softmax'))"
      ],
      "execution_count": 16,
      "outputs": [
        {
          "output_type": "stream",
          "text": [
            "/usr/local/lib/python3.6/dist-packages/ipykernel_launcher.py:5: UserWarning: Update your `Conv2D` call to the Keras 2 API: `Conv2D(16, (3, 3), activation=\"relu\", input_shape=(28, 28, 1...)`\n",
            "  \"\"\"\n",
            "/usr/local/lib/python3.6/dist-packages/ipykernel_launcher.py:6: UserWarning: Update your `Conv2D` call to the Keras 2 API: `Conv2D(32, (3, 3), activation=\"relu\")`\n",
            "  \n",
            "/usr/local/lib/python3.6/dist-packages/ipykernel_launcher.py:7: UserWarning: Update your `Conv2D` call to the Keras 2 API: `Conv2D(16, (1, 1), activation=\"relu\")`\n",
            "  import sys\n",
            "/usr/local/lib/python3.6/dist-packages/ipykernel_launcher.py:13: UserWarning: Update your `Conv2D` call to the Keras 2 API: `Conv2D(32, (3, 3), activation=\"relu\")`\n",
            "  del sys.path[0]\n",
            "/usr/local/lib/python3.6/dist-packages/ipykernel_launcher.py:14: UserWarning: Update your `Conv2D` call to the Keras 2 API: `Conv2D(16, (1, 1), activation=\"relu\")`\n",
            "  \n",
            "/usr/local/lib/python3.6/dist-packages/ipykernel_launcher.py:19: UserWarning: Update your `Conv2D` call to the Keras 2 API: `Conv2D(32, (3, 3), activation=\"relu\")`\n",
            "/usr/local/lib/python3.6/dist-packages/ipykernel_launcher.py:20: UserWarning: Update your `Conv2D` call to the Keras 2 API: `Conv2D(10, (3, 3))`\n"
          ],
          "name": "stderr"
        }
      ]
    },
    {
      "cell_type": "code",
      "metadata": {
        "id": "TzdAYg1k9K7Z",
        "colab_type": "code",
        "outputId": "c34103e4-5130-4bad-a3ff-578926913fe8",
        "colab": {
          "base_uri": "https://localhost:8080/",
          "height": 571
        }
      },
      "source": [
        "model.summary()"
      ],
      "execution_count": 17,
      "outputs": [
        {
          "output_type": "stream",
          "text": [
            "_________________________________________________________________\n",
            "Layer (type)                 Output Shape              Param #   \n",
            "=================================================================\n",
            "conv2d_8 (Conv2D)            (None, 26, 26, 16)        160       \n",
            "_________________________________________________________________\n",
            "conv2d_9 (Conv2D)            (None, 24, 24, 32)        4640      \n",
            "_________________________________________________________________\n",
            "conv2d_10 (Conv2D)           (None, 24, 24, 16)        528       \n",
            "_________________________________________________________________\n",
            "max_pooling2d_3 (MaxPooling2 (None, 12, 12, 16)        0         \n",
            "_________________________________________________________________\n",
            "dropout_3 (Dropout)          (None, 12, 12, 16)        0         \n",
            "_________________________________________________________________\n",
            "conv2d_11 (Conv2D)           (None, 10, 10, 32)        4640      \n",
            "_________________________________________________________________\n",
            "conv2d_12 (Conv2D)           (None, 10, 10, 16)        528       \n",
            "_________________________________________________________________\n",
            "max_pooling2d_4 (MaxPooling2 (None, 5, 5, 16)          0         \n",
            "_________________________________________________________________\n",
            "dropout_4 (Dropout)          (None, 5, 5, 16)          0         \n",
            "_________________________________________________________________\n",
            "conv2d_13 (Conv2D)           (None, 3, 3, 32)          4640      \n",
            "_________________________________________________________________\n",
            "conv2d_14 (Conv2D)           (None, 1, 1, 10)          2890      \n",
            "_________________________________________________________________\n",
            "flatten_2 (Flatten)          (None, 10)                0         \n",
            "_________________________________________________________________\n",
            "activation_2 (Activation)    (None, 10)                0         \n",
            "=================================================================\n",
            "Total params: 18,026\n",
            "Trainable params: 18,026\n",
            "Non-trainable params: 0\n",
            "_________________________________________________________________\n"
          ],
          "name": "stdout"
        }
      ]
    },
    {
      "cell_type": "code",
      "metadata": {
        "id": "Zp6SuGrL9M3h",
        "colab_type": "code",
        "colab": {}
      },
      "source": [
        "model.compile(loss='categorical_crossentropy',\n",
        "             optimizer='adam',\n",
        "             metrics=['accuracy'])"
      ],
      "execution_count": 0,
      "outputs": []
    },
    {
      "cell_type": "markdown",
      "metadata": {
        "id": "9mViB5FEglqu",
        "colab_type": "text"
      },
      "source": [
        "***Model Fit***\n",
        "\n",
        "Tried changing the batch sizes as 256 and epochs as 10, 15, 20 and split as 0.15, 0.20 and 0.3\n",
        "\n",
        "Increased the batch size as 512 and epoch at 5,10, 15, 20 and 30 and validation split at 0.2 ,0.3 and 0.4\n"
      ]
    },
    {
      "cell_type": "code",
      "metadata": {
        "id": "gSrVA3huX8BF",
        "colab_type": "code",
        "outputId": "c53b18d9-1553-47b8-c3ed-ee20fd16d40f",
        "colab": {
          "base_uri": "https://localhost:8080/",
          "height": 1784
        }
      },
      "source": [
        "model.fit(X_train, Y_train, batch_size=512,nb_epoch=50, verbose=1,validation_split=0.15)"
      ],
      "execution_count": 25,
      "outputs": [
        {
          "output_type": "stream",
          "text": [
            "Train on 51000 samples, validate on 9000 samples\n",
            "Epoch 1/50\n",
            " 2560/51000 [>.............................] - ETA: 2s - loss: 0.0461 - acc: 0.9836"
          ],
          "name": "stdout"
        },
        {
          "output_type": "stream",
          "text": [
            "/usr/local/lib/python3.6/dist-packages/ipykernel_launcher.py:1: UserWarning: The `nb_epoch` argument in `fit` has been renamed `epochs`.\n",
            "  \"\"\"Entry point for launching an IPython kernel.\n"
          ],
          "name": "stderr"
        },
        {
          "output_type": "stream",
          "text": [
            "51000/51000 [==============================] - 2s 41us/step - loss: 0.0539 - acc: 0.9826 - val_loss: 0.0289 - val_acc: 0.9918\n",
            "Epoch 2/50\n",
            "51000/51000 [==============================] - 2s 35us/step - loss: 0.0504 - acc: 0.9843 - val_loss: 0.0286 - val_acc: 0.9916\n",
            "Epoch 3/50\n",
            "51000/51000 [==============================] - 2s 35us/step - loss: 0.0521 - acc: 0.9835 - val_loss: 0.0293 - val_acc: 0.9916\n",
            "Epoch 4/50\n",
            "51000/51000 [==============================] - 2s 35us/step - loss: 0.0508 - acc: 0.9836 - val_loss: 0.0291 - val_acc: 0.9912\n",
            "Epoch 5/50\n",
            "51000/51000 [==============================] - 2s 35us/step - loss: 0.0483 - acc: 0.9847 - val_loss: 0.0293 - val_acc: 0.9913\n",
            "Epoch 6/50\n",
            "51000/51000 [==============================] - 2s 35us/step - loss: 0.0456 - acc: 0.9855 - val_loss: 0.0300 - val_acc: 0.9909\n",
            "Epoch 7/50\n",
            "51000/51000 [==============================] - 2s 35us/step - loss: 0.0447 - acc: 0.9857 - val_loss: 0.0284 - val_acc: 0.9914\n",
            "Epoch 8/50\n",
            "51000/51000 [==============================] - 2s 35us/step - loss: 0.0464 - acc: 0.9846 - val_loss: 0.0282 - val_acc: 0.9917\n",
            "Epoch 9/50\n",
            "51000/51000 [==============================] - 2s 35us/step - loss: 0.0450 - acc: 0.9854 - val_loss: 0.0250 - val_acc: 0.9932\n",
            "Epoch 10/50\n",
            "51000/51000 [==============================] - 2s 35us/step - loss: 0.0437 - acc: 0.9856 - val_loss: 0.0320 - val_acc: 0.9922\n",
            "Epoch 11/50\n",
            "51000/51000 [==============================] - 2s 35us/step - loss: 0.0426 - acc: 0.9863 - val_loss: 0.0266 - val_acc: 0.9929\n",
            "Epoch 12/50\n",
            "51000/51000 [==============================] - 2s 35us/step - loss: 0.0424 - acc: 0.9861 - val_loss: 0.0267 - val_acc: 0.9923\n",
            "Epoch 13/50\n",
            "51000/51000 [==============================] - 2s 35us/step - loss: 0.0405 - acc: 0.9868 - val_loss: 0.0264 - val_acc: 0.9929\n",
            "Epoch 14/50\n",
            "51000/51000 [==============================] - 2s 35us/step - loss: 0.0405 - acc: 0.9874 - val_loss: 0.0281 - val_acc: 0.9926\n",
            "Epoch 15/50\n",
            "51000/51000 [==============================] - 2s 35us/step - loss: 0.0379 - acc: 0.9874 - val_loss: 0.0260 - val_acc: 0.9936\n",
            "Epoch 16/50\n",
            "51000/51000 [==============================] - 2s 36us/step - loss: 0.0389 - acc: 0.9871 - val_loss: 0.0241 - val_acc: 0.9929\n",
            "Epoch 17/50\n",
            "51000/51000 [==============================] - 2s 36us/step - loss: 0.0369 - acc: 0.9882 - val_loss: 0.0254 - val_acc: 0.9936\n",
            "Epoch 18/50\n",
            "51000/51000 [==============================] - 2s 36us/step - loss: 0.0379 - acc: 0.9873 - val_loss: 0.0246 - val_acc: 0.9926\n",
            "Epoch 19/50\n",
            "51000/51000 [==============================] - 2s 36us/step - loss: 0.0353 - acc: 0.9883 - val_loss: 0.0271 - val_acc: 0.9924\n",
            "Epoch 20/50\n",
            "51000/51000 [==============================] - 2s 35us/step - loss: 0.0381 - acc: 0.9879 - val_loss: 0.0231 - val_acc: 0.9939\n",
            "Epoch 21/50\n",
            "51000/51000 [==============================] - 2s 35us/step - loss: 0.0370 - acc: 0.9879 - val_loss: 0.0244 - val_acc: 0.9936\n",
            "Epoch 22/50\n",
            "51000/51000 [==============================] - 2s 35us/step - loss: 0.0357 - acc: 0.9882 - val_loss: 0.0253 - val_acc: 0.9932\n",
            "Epoch 23/50\n",
            "51000/51000 [==============================] - 2s 35us/step - loss: 0.0338 - acc: 0.9888 - val_loss: 0.0258 - val_acc: 0.9928\n",
            "Epoch 24/50\n",
            "51000/51000 [==============================] - 2s 35us/step - loss: 0.0347 - acc: 0.9885 - val_loss: 0.0262 - val_acc: 0.9927\n",
            "Epoch 25/50\n",
            "51000/51000 [==============================] - 2s 36us/step - loss: 0.0323 - acc: 0.9893 - val_loss: 0.0253 - val_acc: 0.9928\n",
            "Epoch 26/50\n",
            "51000/51000 [==============================] - 2s 36us/step - loss: 0.0340 - acc: 0.9888 - val_loss: 0.0274 - val_acc: 0.9926\n",
            "Epoch 27/50\n",
            "51000/51000 [==============================] - 2s 35us/step - loss: 0.0341 - acc: 0.9890 - val_loss: 0.0261 - val_acc: 0.9926\n",
            "Epoch 28/50\n",
            "51000/51000 [==============================] - 2s 35us/step - loss: 0.0313 - acc: 0.9897 - val_loss: 0.0252 - val_acc: 0.9921\n",
            "Epoch 29/50\n",
            "51000/51000 [==============================] - 2s 35us/step - loss: 0.0324 - acc: 0.9893 - val_loss: 0.0249 - val_acc: 0.9933\n",
            "Epoch 30/50\n",
            "51000/51000 [==============================] - 2s 35us/step - loss: 0.0317 - acc: 0.9895 - val_loss: 0.0236 - val_acc: 0.9941\n",
            "Epoch 31/50\n",
            "51000/51000 [==============================] - 2s 35us/step - loss: 0.0316 - acc: 0.9895 - val_loss: 0.0251 - val_acc: 0.9934\n",
            "Epoch 32/50\n",
            "51000/51000 [==============================] - 2s 35us/step - loss: 0.0322 - acc: 0.9896 - val_loss: 0.0241 - val_acc: 0.9937\n",
            "Epoch 33/50\n",
            "51000/51000 [==============================] - 2s 36us/step - loss: 0.0306 - acc: 0.9902 - val_loss: 0.0235 - val_acc: 0.9938\n",
            "Epoch 34/50\n",
            "51000/51000 [==============================] - 2s 35us/step - loss: 0.0312 - acc: 0.9901 - val_loss: 0.0231 - val_acc: 0.9941\n",
            "Epoch 35/50\n",
            "51000/51000 [==============================] - 2s 36us/step - loss: 0.0302 - acc: 0.9900 - val_loss: 0.0230 - val_acc: 0.9937\n",
            "Epoch 36/50\n",
            "51000/51000 [==============================] - 2s 35us/step - loss: 0.0300 - acc: 0.9903 - val_loss: 0.0261 - val_acc: 0.9931\n",
            "Epoch 37/50\n",
            "51000/51000 [==============================] - 2s 36us/step - loss: 0.0292 - acc: 0.9901 - val_loss: 0.0282 - val_acc: 0.9927\n",
            "Epoch 38/50\n",
            "51000/51000 [==============================] - 2s 36us/step - loss: 0.0287 - acc: 0.9910 - val_loss: 0.0231 - val_acc: 0.9937\n",
            "Epoch 39/50\n",
            "51000/51000 [==============================] - 2s 36us/step - loss: 0.0283 - acc: 0.9910 - val_loss: 0.0234 - val_acc: 0.9937\n",
            "Epoch 40/50\n",
            "51000/51000 [==============================] - 2s 36us/step - loss: 0.0280 - acc: 0.9910 - val_loss: 0.0233 - val_acc: 0.9939\n",
            "Epoch 41/50\n",
            "51000/51000 [==============================] - 2s 37us/step - loss: 0.0278 - acc: 0.9910 - val_loss: 0.0261 - val_acc: 0.9926\n",
            "Epoch 42/50\n",
            "51000/51000 [==============================] - 2s 37us/step - loss: 0.0268 - acc: 0.9912 - val_loss: 0.0245 - val_acc: 0.9937\n",
            "Epoch 43/50\n",
            "51000/51000 [==============================] - 2s 37us/step - loss: 0.0275 - acc: 0.9908 - val_loss: 0.0287 - val_acc: 0.9923\n",
            "Epoch 44/50\n",
            "51000/51000 [==============================] - 2s 37us/step - loss: 0.0271 - acc: 0.9915 - val_loss: 0.0240 - val_acc: 0.9941\n",
            "Epoch 45/50\n",
            "51000/51000 [==============================] - 2s 37us/step - loss: 0.0271 - acc: 0.9915 - val_loss: 0.0216 - val_acc: 0.9942\n",
            "Epoch 46/50\n",
            "51000/51000 [==============================] - 2s 36us/step - loss: 0.0273 - acc: 0.9904 - val_loss: 0.0253 - val_acc: 0.9938\n",
            "Epoch 47/50\n",
            "51000/51000 [==============================] - 2s 37us/step - loss: 0.0272 - acc: 0.9909 - val_loss: 0.0214 - val_acc: 0.9943\n",
            "Epoch 48/50\n",
            "51000/51000 [==============================] - 2s 37us/step - loss: 0.0263 - acc: 0.9913 - val_loss: 0.0255 - val_acc: 0.9932\n",
            "Epoch 49/50\n",
            "51000/51000 [==============================] - 2s 36us/step - loss: 0.0269 - acc: 0.9908 - val_loss: 0.0254 - val_acc: 0.9934\n",
            "Epoch 50/50\n",
            "51000/51000 [==============================] - 2s 36us/step - loss: 0.0259 - acc: 0.9914 - val_loss: 0.0256 - val_acc: 0.9931\n"
          ],
          "name": "stdout"
        },
        {
          "output_type": "execute_result",
          "data": {
            "text/plain": [
              "<keras.callbacks.History at 0x7f71b9d0e7f0>"
            ]
          },
          "metadata": {
            "tags": []
          },
          "execution_count": 25
        }
      ]
    },
    {
      "cell_type": "code",
      "metadata": {
        "id": "Dwd9n444pMsF",
        "colab_type": "code",
        "outputId": "72005770-9d95-4629-db6c-b7bbb54d3c1e",
        "colab": {
          "base_uri": "https://localhost:8080/",
          "height": 440
        }
      },
      "source": [
        "model.fit(X_train, Y_train, batch_size=512,nb_epoch=10, verbose=1,validation_split=0.1)"
      ],
      "execution_count": 26,
      "outputs": [
        {
          "output_type": "stream",
          "text": [
            "Train on 54000 samples, validate on 6000 samples\n",
            "Epoch 1/10\n",
            " 3072/54000 [>.............................] - ETA: 2s - loss: 0.0246 - acc: 0.9899"
          ],
          "name": "stdout"
        },
        {
          "output_type": "stream",
          "text": [
            "/usr/local/lib/python3.6/dist-packages/ipykernel_launcher.py:1: UserWarning: The `nb_epoch` argument in `fit` has been renamed `epochs`.\n",
            "  \"\"\"Entry point for launching an IPython kernel.\n"
          ],
          "name": "stderr"
        },
        {
          "output_type": "stream",
          "text": [
            "54000/54000 [==============================] - 2s 31us/step - loss: 0.0250 - acc: 0.9913 - val_loss: 0.0228 - val_acc: 0.9943\n",
            "Epoch 2/10\n",
            "54000/54000 [==============================] - 2s 29us/step - loss: 0.0245 - acc: 0.9914 - val_loss: 0.0219 - val_acc: 0.9945\n",
            "Epoch 3/10\n",
            "54000/54000 [==============================] - 2s 29us/step - loss: 0.0233 - acc: 0.9927 - val_loss: 0.0210 - val_acc: 0.9948\n",
            "Epoch 4/10\n",
            "54000/54000 [==============================] - 2s 29us/step - loss: 0.0239 - acc: 0.9921 - val_loss: 0.0238 - val_acc: 0.9935\n",
            "Epoch 5/10\n",
            "54000/54000 [==============================] - 2s 30us/step - loss: 0.0259 - acc: 0.9917 - val_loss: 0.0226 - val_acc: 0.9947\n",
            "Epoch 6/10\n",
            "54000/54000 [==============================] - 2s 30us/step - loss: 0.0236 - acc: 0.9921 - val_loss: 0.0224 - val_acc: 0.9935\n",
            "Epoch 7/10\n",
            "54000/54000 [==============================] - 2s 30us/step - loss: 0.0246 - acc: 0.9924 - val_loss: 0.0209 - val_acc: 0.9945\n",
            "Epoch 8/10\n",
            "54000/54000 [==============================] - 2s 29us/step - loss: 0.0245 - acc: 0.9918 - val_loss: 0.0216 - val_acc: 0.9947\n",
            "Epoch 9/10\n",
            "54000/54000 [==============================] - 2s 30us/step - loss: 0.0224 - acc: 0.9926 - val_loss: 0.0226 - val_acc: 0.9947\n",
            "Epoch 10/10\n",
            "54000/54000 [==============================] - 2s 29us/step - loss: 0.0238 - acc: 0.9914 - val_loss: 0.0235 - val_acc: 0.9942\n"
          ],
          "name": "stdout"
        },
        {
          "output_type": "execute_result",
          "data": {
            "text/plain": [
              "<keras.callbacks.History at 0x7f71b9d1e7f0>"
            ]
          },
          "metadata": {
            "tags": []
          },
          "execution_count": 26
        }
      ]
    },
    {
      "cell_type": "code",
      "metadata": {
        "id": "AtsH-lLk-eLb",
        "colab_type": "code",
        "colab": {}
      },
      "source": [
        "score = model.evaluate(X_test, Y_test, verbose=0)"
      ],
      "execution_count": 0,
      "outputs": []
    },
    {
      "cell_type": "code",
      "metadata": {
        "id": "mkX8JMv79q9r",
        "colab_type": "code",
        "outputId": "8a41eb9f-76fd-4cdf-a8ba-b2d1d4a4d6ad",
        "colab": {
          "base_uri": "https://localhost:8080/",
          "height": 34
        }
      },
      "source": [
        "print(score)"
      ],
      "execution_count": 28,
      "outputs": [
        {
          "output_type": "stream",
          "text": [
            "[0.01873271487966558, 0.9944]\n"
          ],
          "name": "stdout"
        }
      ]
    },
    {
      "cell_type": "code",
      "metadata": {
        "id": "OCWoJkwE9suh",
        "colab_type": "code",
        "colab": {}
      },
      "source": [
        "y_pred = model.predict(X_test)"
      ],
      "execution_count": 0,
      "outputs": []
    },
    {
      "cell_type": "code",
      "metadata": {
        "id": "Ym7iCFBm9uBs",
        "colab_type": "code",
        "outputId": "5b6dac43-8c65-4dbc-8cc4-c586792cda77",
        "colab": {
          "base_uri": "https://localhost:8080/",
          "height": 336
        }
      },
      "source": [
        "print(y_pred[:9])\n",
        "print(y_test[:9])"
      ],
      "execution_count": 30,
      "outputs": [
        {
          "output_type": "stream",
          "text": [
            "[[1.0256275e-10 7.6637308e-10 2.0746423e-08 1.5454020e-07 4.2970328e-12\n",
            "  1.5197743e-10 2.4095660e-16 9.9999928e-01 2.0131483e-09 6.2365712e-07]\n",
            " [9.1533120e-10 1.7240950e-08 1.0000000e+00 1.2311325e-09 3.3037083e-11\n",
            "  1.9668527e-13 1.4172040e-08 5.2226318e-12 5.7010852e-10 3.2994226e-13]\n",
            " [5.8290226e-09 9.9998701e-01 7.8088922e-09 6.6231470e-10 9.6282911e-06\n",
            "  1.9354613e-07 7.5341285e-07 6.9902597e-07 1.5682792e-06 1.4457940e-07]\n",
            " [9.9984431e-01 3.1409350e-15 3.7002315e-09 6.9748460e-09 6.2584365e-10\n",
            "  4.9270497e-08 1.4148204e-04 5.8062388e-11 1.1842457e-06 1.3051805e-05]\n",
            " [3.1101051e-12 2.3210201e-11 7.5074541e-10 4.4234438e-13 9.9999428e-01\n",
            "  4.3488466e-13 3.0670941e-09 2.1284582e-11 1.9432822e-09 5.7225639e-06]\n",
            " [4.6159807e-10 9.9998844e-01 6.3566628e-09 7.3505793e-12 9.0386256e-06\n",
            "  3.0800482e-10 8.4540289e-08 2.1642593e-06 1.8102949e-07 1.0376873e-08]\n",
            " [2.6057179e-15 1.7521623e-10 5.7263811e-09 2.0216146e-13 9.9999034e-01\n",
            "  1.0290387e-08 6.6352814e-14 2.7626876e-07 3.4505204e-06 6.0030261e-06]\n",
            " [1.1346706e-12 1.7323512e-13 2.8863285e-09 2.5405970e-07 1.5741015e-06\n",
            "  1.7291400e-08 1.6686190e-13 2.6783262e-10 9.9622275e-09 9.9999809e-01]\n",
            " [1.4606110e-07 7.4492201e-16 3.2413692e-09 8.8191049e-10 7.0933710e-13\n",
            "  9.9672073e-01 3.1744437e-03 1.3299380e-13 7.4311109e-05 3.0422825e-05]]\n",
            "[7 2 1 0 4 1 4 9 5]\n"
          ],
          "name": "stdout"
        }
      ]
    },
    {
      "cell_type": "code",
      "metadata": {
        "id": "CT--y98_dr2T",
        "colab_type": "code",
        "colab": {}
      },
      "source": [
        "layer_dict = dict([(layer.name, layer) for layer in model.layers])"
      ],
      "execution_count": 0,
      "outputs": []
    },
    {
      "cell_type": "code",
      "metadata": {
        "id": "JQl3F_f1uwfO",
        "colab_type": "code",
        "outputId": "6f813c92-6b12-4b96-bf6b-0f276f37bd5e",
        "colab": {
          "base_uri": "https://localhost:8080/",
          "height": 54
        }
      },
      "source": [
        "print(layer_dict)"
      ],
      "execution_count": 32,
      "outputs": [
        {
          "output_type": "stream",
          "text": [
            "{'conv2d_8': <keras.layers.convolutional.Conv2D object at 0x7f71ba53c518>, 'conv2d_9': <keras.layers.convolutional.Conv2D object at 0x7f71ba53cf60>, 'conv2d_10': <keras.layers.convolutional.Conv2D object at 0x7f71ba555390>, 'max_pooling2d_3': <keras.layers.pooling.MaxPooling2D object at 0x7f71ba5161d0>, 'dropout_3': <keras.layers.core.Dropout object at 0x7f71ba5554a8>, 'conv2d_11': <keras.layers.convolutional.Conv2D object at 0x7f71ba503b00>, 'conv2d_12': <keras.layers.convolutional.Conv2D object at 0x7f71ba555550>, 'max_pooling2d_4': <keras.layers.pooling.MaxPooling2D object at 0x7f71ba480860>, 'dropout_4': <keras.layers.core.Dropout object at 0x7f71ba4b15c0>, 'conv2d_13': <keras.layers.convolutional.Conv2D object at 0x7f71ba480780>, 'conv2d_14': <keras.layers.convolutional.Conv2D object at 0x7f71ba4c7048>, 'flatten_2': <keras.layers.core.Flatten object at 0x7f71ba4abc18>, 'activation_2': <keras.layers.core.Activation object at 0x7f71ba4aba90>}\n"
          ],
          "name": "stdout"
        }
      ]
    },
    {
      "cell_type": "code",
      "metadata": {
        "id": "0vHIR0QwJyjb",
        "colab_type": "code",
        "outputId": "36fb9a41-f9d8-4c7d-946d-1853118891ec",
        "colab": {
          "base_uri": "https://localhost:8080/",
          "height": 34
        }
      },
      "source": [
        "print(np.shape(X_train[2]))"
      ],
      "execution_count": 33,
      "outputs": [
        {
          "output_type": "stream",
          "text": [
            "(28, 28, 1)\n"
          ],
          "name": "stdout"
        }
      ]
    },
    {
      "cell_type": "code",
      "metadata": {
        "id": "-2cP6mEZLZ3m",
        "colab_type": "code",
        "outputId": "bf536a83-012a-4489-80b5-f2f331fd606e",
        "colab": {
          "base_uri": "https://localhost:8080/",
          "height": 34
        }
      },
      "source": [
        "layer_name='conv2d_8'\n",
        "layer_output = layer_dict[layer_name].output\n",
        "print(layer_output.shape[3])"
      ],
      "execution_count": 34,
      "outputs": [
        {
          "output_type": "stream",
          "text": [
            "16\n"
          ],
          "name": "stdout"
        }
      ]
    },
    {
      "cell_type": "code",
      "metadata": {
        "id": "2GY4Upv4dsUR",
        "colab_type": "code",
        "outputId": "e3dc3fcf-fbf3-48a0-838c-c1f5bacb1e7a",
        "colab": {
          "base_uri": "https://localhost:8080/",
          "height": 741
        }
      },
      "source": [
        "import numpy as np\n",
        "from matplotlib import pyplot as plt\n",
        "from keras import backend as K\n",
        "%matplotlib inline\n",
        "# util function to convert a tensor into a valid image\n",
        "def deprocess_image(x):\n",
        "    # normalize tensor: center on 0., ensure std is 0.1\n",
        "    x -= x.mean()\n",
        "    x /= (x.std() + 1e-5)\n",
        "    x *= 0.1\n",
        "\n",
        "    # clip to [0, 1]\n",
        "    x += 0.5\n",
        "    x = np.clip(x, 0, 1)\n",
        "\n",
        "    # convert to RGB array\n",
        "    x *= 255\n",
        "    #x = x.transpose((1, 2, 0))\n",
        "    x = np.clip(x, 0, 255).astype('uint8')\n",
        "    return x\n",
        "\n",
        "def vis_img_in_filter(img = np.array(X_train[2]).reshape((1, 28, 28, 1)).astype(np.float64), \n",
        "                      layer_name = 'conv2d_8'):\n",
        "    layer_output = layer_dict[layer_name].output\n",
        "    img_ascs = list()\n",
        "    for filter_index in range(layer_output.shape[3]):\n",
        "        # build a loss function that maximizes the activation\n",
        "        # of the nth filter of the layer considered\n",
        "        loss = K.mean(layer_output[:, :, :, filter_index])\n",
        "\n",
        "        # compute the gradient of the input picture wrt this loss\n",
        "        grads = K.gradients(loss, model.input)[0]\n",
        "\n",
        "        # normalization trick: we normalize the gradient\n",
        "        grads /= (K.sqrt(K.mean(K.square(grads))) + 1e-5)\n",
        "\n",
        "        # this function returns the loss and grads given the input picture\n",
        "        iterate = K.function([model.input], [loss, grads])\n",
        "\n",
        "        # step size for gradient ascent\n",
        "        step = 5.\n",
        "\n",
        "        img_asc = np.array(img)\n",
        "        # run gradient ascent for 20 steps\n",
        "        for i in range(20):\n",
        "            loss_value, grads_value = iterate([img_asc])\n",
        "            img_asc += grads_value * step\n",
        "\n",
        "        img_asc = img_asc[0]\n",
        "        img_ascs.append(deprocess_image(img_asc).reshape((28, 28)))\n",
        "        \n",
        "    if layer_output.shape[3] >= 35:\n",
        "        plot_x, plot_y = 6, 6\n",
        "    elif layer_output.shape[3] >= 23:\n",
        "        plot_x, plot_y = 4, 6\n",
        "    elif layer_output.shape[3] >= 11:\n",
        "        plot_x, plot_y = 2, 6\n",
        "    else:\n",
        "        plot_x, plot_y = 1, 2\n",
        "    fig, ax = plt.subplots(plot_x, plot_y, figsize = (12, 12))\n",
        "    ax[0, 0].imshow(img.reshape((28, 28)), cmap = 'gray')\n",
        "    ax[0, 0].set_title('Input image')\n",
        "    fig.suptitle('Input image and %s filters' % (layer_name,))\n",
        "    fig.tight_layout(pad = 0.3, rect = [0, 0, 0.9, 0.9])\n",
        "    for (x, y) in [(i, j) for i in range(plot_x) for j in range(plot_y)]:\n",
        "        if x == 0 and y == 0:\n",
        "            continue\n",
        "        ax[x, y].imshow(img_ascs[x * plot_y + y - 1], cmap = 'gray')\n",
        "        ax[x, y].set_title('filter %d' % (x * plot_y + y - 1))\n",
        "\n",
        "vis_img_in_filter()"
      ],
      "execution_count": 35,
      "outputs": [
        {
          "output_type": "display_data",
          "data": {
            "image/png": "[encoded data removed]",
            "text/plain": [
              "<Figure size 864x864 with 12 Axes>"
            ]
          },
          "metadata": {
            "tags": []
          }
        }
      ]
    },
    {
      "cell_type": "code",
      "metadata": {
        "id": "9tvptcn8dxvp",
        "colab_type": "code",
        "colab": {}
      },
      "source": [
        ""
      ],
      "execution_count": 0,
      "outputs": []
    }
  ]
}