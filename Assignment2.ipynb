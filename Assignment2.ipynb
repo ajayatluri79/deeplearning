{
 "cells": [
  {
   "cell_type": "code",
   "execution_count": 1,
   "metadata": {},
   "outputs": [],
   "source": [
    "import numpy as np"
   ]
  },
  {
   "cell_type": "code",
   "execution_count": 2,
   "metadata": {},
   "outputs": [],
   "source": [
    "X = np.array([[1, 0, 1, 0],\n",
    "     [1, 0, 1, 1],\n",
    "     [0, 1, 0, 1]])\n",
    "Y = np.array([[1],\n",
    "             [1],\n",
    "             [0]])\n",
    "lr = 1\n",
    "\n"
   ]
  },
  {
   "cell_type": "code",
   "execution_count": 3,
   "metadata": {},
   "outputs": [
    {
     "name": "stdout",
     "output_type": "stream",
     "text": [
      "[[ 0.42689463  0.1454299   0.93919079]\n",
      " [ 0.47595447  0.10026753  0.58240361]\n",
      " [ 0.38481045  0.7758597   0.47594849]\n",
      " [ 0.41094801  0.23264197  0.0805603 ]]\n",
      "[[ 0.01344228  0.16688243  0.74481094]]\n",
      "[[ 0.81635063]\n",
      " [ 0.4416652 ]\n",
      " [ 0.53382643]]\n",
      "[[ 0.76682471]]\n"
     ]
    }
   ],
   "source": [
    "wh = np.random.uniform(low=0, high=1, size=(4,3))\n",
    "bh = np.random.uniform(low=0, high=1, size=(1,3))\n",
    "wout = np.random.uniform(low=0, high=1, size=(3,1))\n",
    "bout = np.random.uniform(low=0, high=1, size=(1,1))\n",
    "print(wh)\n",
    "print(bh)\n",
    "print(wout)\n",
    "print(bout)"
   ]
  },
  {
   "cell_type": "code",
   "execution_count": 4,
   "metadata": {},
   "outputs": [
    {
     "data": {
      "text/plain": [
       "'wh = np.array([[0.42, 0.88, 0.55],\\n     [0.1, 0.73, 0.68],\\n     [0.6, 0.18, 0.47],\\n     [0.92, 0.11, 0.52]])\\nbh = np.array([0.46, 0.72, 0.08])\\nwout = np.array([[0.3],\\n                [0.25], \\n                [0.23]])\\nbout = np.array([0.69])\\n'"
      ]
     },
     "execution_count": 4,
     "metadata": {},
     "output_type": "execute_result"
    }
   ],
   "source": [
    "'''wh = np.array([[0.42, 0.88, 0.55],\n",
    "     [0.1, 0.73, 0.68],\n",
    "     [0.6, 0.18, 0.47],\n",
    "     [0.92, 0.11, 0.52]])\n",
    "bh = np.array([0.46, 0.72, 0.08])\n",
    "wout = np.array([[0.3],\n",
    "                [0.25], \n",
    "                [0.23]])\n",
    "bout = np.array([0.69])\n",
    "'''"
   ]
  },
  {
   "cell_type": "code",
   "execution_count": 5,
   "metadata": {},
   "outputs": [],
   "source": [
    "def sigmoid(x):\n",
    "    return 1.0 / (1 + np.exp(-x))"
   ]
  },
  {
   "cell_type": "code",
   "execution_count": 6,
   "metadata": {},
   "outputs": [],
   "source": [
    "def sigmoid_der(xprime):\n",
    "    return xprime * (1 - xprime)"
   ]
  },
  {
   "cell_type": "code",
   "execution_count": 7,
   "metadata": {},
   "outputs": [
    {
     "name": "stdout",
     "output_type": "stream",
     "text": [
      "[[ 0.82514736  1.08817202  2.15995021]\n",
      " [ 1.23609537  1.320814    2.24051051]\n",
      " [ 0.90034476  0.49979194  1.40777485]]\n",
      "[[ 0.69532789  0.74803735  0.89659493]\n",
      " [ 0.77488363  0.7893171   0.90382884]\n",
      " [ 0.71102035  0.62241043  0.80341474]]\n"
     ]
    }
   ],
   "source": [
    "hidden_layer = X.dot(wh) + bh\n",
    "print(hidden_layer)\n",
    "hidden_layer = sigmoid(hidden_layer)\n",
    "print(hidden_layer)"
   ]
  },
  {
   "cell_type": "code",
   "execution_count": 8,
   "metadata": {},
   "outputs": [
    {
     "name": "stdout",
     "output_type": "stream",
     "text": [
      "[[ 2.1434642 ]\n",
      " [ 2.23050306]\n",
      " [ 2.05104767]]\n",
      "[[ 0.89505645]\n",
      " [ 0.90295545]\n",
      " [ 0.88605344]]\n"
     ]
    }
   ],
   "source": [
    "output_layer = hidden_layer.dot(wout) + bout\n",
    "print(output_layer)\n",
    "output_layer = sigmoid(output_layer)\n",
    "print(output_layer)"
   ]
  },
  {
   "cell_type": "code",
   "execution_count": 9,
   "metadata": {},
   "outputs": [
    {
     "name": "stdout",
     "output_type": "stream",
     "text": [
      "[[ 0.10494355]\n",
      " [ 0.09704455]\n",
      " [-0.88605344]]\n"
     ]
    }
   ],
   "source": [
    "err_output = Y - output_layer\n",
    "print(err_output)"
   ]
  },
  {
   "cell_type": "code",
   "execution_count": 10,
   "metadata": {},
   "outputs": [
    {
     "name": "stdout",
     "output_type": "stream",
     "text": [
      "[[ 0.0939304 ]\n",
      " [ 0.08762691]\n",
      " [ 0.10096274]]\n"
     ]
    }
   ],
   "source": [
    "slope_out = sigmoid_der(output_layer)\n",
    "print(slope_out)"
   ]
  },
  {
   "cell_type": "code",
   "execution_count": 11,
   "metadata": {},
   "outputs": [
    {
     "name": "stdout",
     "output_type": "stream",
     "text": [
      "[[ 0.21184702  0.18847748  0.09271246]\n",
      " [ 0.17443899  0.16629561  0.08692227]\n",
      " [ 0.20547041  0.23501569  0.15793949]]\n"
     ]
    }
   ],
   "source": [
    "slope_hidden = sigmoid_der(hidden_layer)\n",
    "print(slope_hidden)"
   ]
  },
  {
   "cell_type": "code",
   "execution_count": 12,
   "metadata": {},
   "outputs": [
    {
     "name": "stdout",
     "output_type": "stream",
     "text": [
      "[[ 0.00985739]\n",
      " [ 0.00850371]\n",
      " [-0.08945839]]\n"
     ]
    }
   ],
   "source": [
    "d_output = err_output * slope_out\n",
    "print(d_output)"
   ]
  },
  {
   "cell_type": "code",
   "execution_count": 13,
   "metadata": {},
   "outputs": [
    {
     "name": "stdout",
     "output_type": "stream",
     "text": [
      "(3, 1) (3, 1)\n",
      "[[ 0.00804709  0.00435367  0.00526214]\n",
      " [ 0.00694201  0.00375579  0.00453951]\n",
      " [-0.07302941 -0.03951066 -0.04775525]]\n"
     ]
    }
   ],
   "source": [
    "err_hidden = d_output.dot(wout.T)\n",
    "print(d_output.shape, wout.shape)\n",
    "print(err_hidden)"
   ]
  },
  {
   "cell_type": "code",
   "execution_count": 14,
   "metadata": {},
   "outputs": [
    {
     "name": "stdout",
     "output_type": "stream",
     "text": [
      "[[ 0.00170475  0.00082057  0.00048787]\n",
      " [ 0.00121096  0.00062457  0.00039458]\n",
      " [-0.01500538 -0.00928562 -0.00754244]]\n"
     ]
    }
   ],
   "source": [
    "d_hidden = err_hidden*slope_hidden\n",
    "print(d_hidden)"
   ]
  },
  {
   "cell_type": "code",
   "execution_count": 15,
   "metadata": {},
   "outputs": [
    {
     "name": "stdout",
     "output_type": "stream",
     "text": [
      "[[ 0.7661874 ]\n",
      " [ 0.40007119]\n",
      " [ 0.47847823]]\n"
     ]
    }
   ],
   "source": [
    "wout = wout + hidden_layer.T.dot(d_output) * lr\n",
    "print(wout)"
   ]
  },
  {
   "cell_type": "code",
   "execution_count": 16,
   "metadata": {},
   "outputs": [
    {
     "name": "stdout",
     "output_type": "stream",
     "text": [
      "[[ 0.42981034  0.14687504  0.94007324]\n",
      " [ 0.46094909  0.09098191  0.57486117]\n",
      " [ 0.38772616  0.77730484  0.47683093]\n",
      " [ 0.39715359  0.22398092  0.07341244]]\n"
     ]
    }
   ],
   "source": [
    "wh = wh+ X.T.dot(d_hidden) * lr\n",
    "print(wh)"
   ]
  },
  {
   "cell_type": "code",
   "execution_count": 17,
   "metadata": {},
   "outputs": [
    {
     "name": "stdout",
     "output_type": "stream",
     "text": [
      "[[ 0.0013526   0.15904194  0.73815095]] [[ 0.69572742]]\n"
     ]
    }
   ],
   "source": [
    "bh = bh + np.sum(d_hidden, axis=0) * lr\n",
    "bout = bout + np.sum(d_output, axis=0)*lr\n",
    "print(bh, bout)"
   ]
  },
  {
   "cell_type": "code",
   "execution_count": null,
   "metadata": {},
   "outputs": [],
   "source": []
  },
  {
   "cell_type": "code",
   "execution_count": null,
   "metadata": {
    "collapsed": true
   },
   "outputs": [],
   "source": []
  }
 ],
 "metadata": {
  "kernelspec": {
   "display_name": "Python 3",
   "language": "python",
   "name": "python3"
  },
  "language_info": {
   "codemirror_mode": {
    "name": "ipython",
    "version": 3
   },
   "file_extension": ".py",
   "mimetype": "text/x-python",
   "name": "python",
   "nbconvert_exporter": "python",
   "pygments_lexer": "ipython3",
   "version": "3.6.4"
  }
 },
 "nbformat": 4,
 "nbformat_minor": 2
}
